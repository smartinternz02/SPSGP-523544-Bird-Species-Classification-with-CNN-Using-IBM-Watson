{
 "cells": [
  {
   "cell_type": "code",
   "execution_count": 1,
   "id": "31cbeb96",
   "metadata": {},
   "outputs": [],
   "source": [
    "from tensorflow.keras.preprocessing.image import ImageDataGenerator"
   ]
  },
  {
   "cell_type": "code",
   "execution_count": 2,
   "id": "e41fe5d1",
   "metadata": {},
   "outputs": [],
   "source": [
    "train_gen = ImageDataGenerator(rescale=(1./255),horizontal_flip=True,shear_range=0.2)\n",
    "test_gen = ImageDataGenerator(rescale=(1./255))  #--> (0 to 255) convert to (0 to 1)"
   ]
  },
  {
   "cell_type": "code",
   "execution_count": 15,
   "id": "85410245",
   "metadata": {},
   "outputs": [
    {
     "name": "stdout",
     "output_type": "stream",
     "text": [
      "Found 150 images belonging to 16 classes.\n",
      "Found 157 images belonging to 16 classes.\n"
     ]
    }
   ],
   "source": [
    "train = train_gen.flow_from_directory(\"C:/Users/AVI BHANDARI/Downloads/archive (7)/train_data/train_data\",\n",
    "                                      target_size=(224, 224),\n",
    "                                      class_mode='categorical', \n",
    "                                      batch_size=32)\n",
    "test = test_gen.flow_from_directory(\"C:/Users/AVI BHANDARI/Downloads/archive (7)/test_data/test_data\",\n",
    "                                    target_size=(224, 224),\n",
    "                                      class_mode='categorical', \n",
    "                                      batch_size=32)"
   ]
  },
  {
   "cell_type": "code",
   "execution_count": 16,
   "id": "39c4f1b1",
   "metadata": {},
   "outputs": [
    {
     "data": {
      "text/plain": [
       "{'blasti': 0,\n",
       " 'bonegl': 1,\n",
       " 'brhkyt': 2,\n",
       " 'cbrtsh': 3,\n",
       " 'cmnmyn': 4,\n",
       " 'gretit': 5,\n",
       " 'hilpig': 6,\n",
       " 'himbul': 7,\n",
       " 'himgri': 8,\n",
       " 'hsparo': 9,\n",
       " 'indvul': 10,\n",
       " 'jglowl': 11,\n",
       " 'lbicrw': 12,\n",
       " 'mgprob': 13,\n",
       " 'rebimg': 14,\n",
       " 'wcrsrt': 15}"
      ]
     },
     "execution_count": 16,
     "metadata": {},
     "output_type": "execute_result"
    }
   ],
   "source": [
    "train.class_indices"
   ]
  },
  {
   "cell_type": "code",
   "execution_count": 17,
   "id": "c738aa7c",
   "metadata": {},
   "outputs": [],
   "source": [
    "from tensorflow.keras.layers import Convolution2D,MaxPooling2D,Flatten,Dense\n",
    "from tensorflow.keras.models import Sequential"
   ]
  },
  {
   "cell_type": "code",
   "execution_count": 25,
   "id": "ffefbfc1",
   "metadata": {},
   "outputs": [],
   "source": [
    "model = Sequential()\n",
    "model.add(Convolution2D(20,(3,3),activation='relu',input_shape=(224, 224, 3)))\n",
    "model.add(MaxPooling2D(pool_size=(2,2)))\n",
    "model.add(Flatten())\n",
    "model.add(Dense(45,activation='relu'))\n",
    "model.add(Dense(16,activation='softmax'))"
   ]
  },
  {
   "cell_type": "code",
   "execution_count": 26,
   "id": "f8813bf2",
   "metadata": {},
   "outputs": [],
   "source": [
    "model.compile(optimizer='adam',loss='categorical_crossentropy',metrics=['accuracy'])"
   ]
  },
  {
   "cell_type": "code",
   "execution_count": 27,
   "id": "983c68ba",
   "metadata": {},
   "outputs": [
    {
     "name": "stdout",
     "output_type": "stream",
     "text": [
      "Epoch 1/10\n",
      "5/5 [==============================] - 92s 21s/step - loss: 13.0955 - accuracy: 0.1000 - val_loss: 8.1128 - val_accuracy: 0.0764\n",
      "Epoch 2/10\n",
      "5/5 [==============================] - 84s 19s/step - loss: 6.4715 - accuracy: 0.0800 - val_loss: 5.0122 - val_accuracy: 0.0573\n",
      "Epoch 3/10\n",
      "5/5 [==============================] - 83s 19s/step - loss: 3.3655 - accuracy: 0.0467 - val_loss: 2.8439 - val_accuracy: 0.0573\n",
      "Epoch 4/10\n",
      "5/5 [==============================] - 83s 19s/step - loss: 2.5368 - accuracy: 0.0933 - val_loss: 2.7659 - val_accuracy: 0.0637\n",
      "Epoch 5/10\n",
      "5/5 [==============================] - 108s 25s/step - loss: 2.5712 - accuracy: 0.0733 - val_loss: 2.7658 - val_accuracy: 0.0701\n",
      "Epoch 6/10\n",
      "5/5 [==============================] - 139s 32s/step - loss: 2.4893 - accuracy: 0.0800 - val_loss: 2.7950 - val_accuracy: 0.0892\n",
      "Epoch 7/10\n",
      "5/5 [==============================] - 139s 33s/step - loss: 2.4581 - accuracy: 0.1000 - val_loss: 2.7912 - val_accuracy: 0.0764\n",
      "Epoch 8/10\n",
      "5/5 [==============================] - 139s 32s/step - loss: 2.4115 - accuracy: 0.1333 - val_loss: 2.8159 - val_accuracy: 0.0510\n",
      "Epoch 9/10\n",
      "5/5 [==============================] - 138s 31s/step - loss: 2.3519 - accuracy: 0.2000 - val_loss: 2.8206 - val_accuracy: 0.0637\n",
      "Epoch 10/10\n",
      "5/5 [==============================] - 138s 32s/step - loss: 2.3184 - accuracy: 0.2133 - val_loss: 2.8689 - val_accuracy: 0.0701\n"
     ]
    },
    {
     "data": {
      "text/plain": [
       "<keras.callbacks.History at 0x2770b4a1be0>"
      ]
     },
     "execution_count": 27,
     "metadata": {},
     "output_type": "execute_result"
    }
   ],
   "source": [
    "model.fit(train,batch_size=32,validation_data=test,epochs=10)"
   ]
  },
  {
   "cell_type": "code",
   "execution_count": 29,
   "id": "4f67feee",
   "metadata": {},
   "outputs": [],
   "source": [
    "model.save('Assignment3.h5')"
   ]
  },
  {
   "cell_type": "code",
   "execution_count": 31,
   "id": "c1d775b8",
   "metadata": {},
   "outputs": [
    {
     "name": "stdout",
     "output_type": "stream",
     "text": [
      "Model: \"sequential_4\"\n",
      "_________________________________________________________________\n",
      " Layer (type)                Output Shape              Param #   \n",
      "=================================================================\n",
      " conv2d_4 (Conv2D)           (None, 222, 222, 20)      560       \n",
      "                                                                 \n",
      " max_pooling2d_4 (MaxPooling  (None, 111, 111, 20)     0         \n",
      " 2D)                                                             \n",
      "                                                                 \n",
      " flatten_4 (Flatten)         (None, 246420)            0         \n",
      "                                                                 \n",
      " dense_8 (Dense)             (None, 45)                11088945  \n",
      "                                                                 \n",
      " dense_9 (Dense)             (None, 16)                736       \n",
      "                                                                 \n",
      "=================================================================\n",
      "Total params: 11,090,241\n",
      "Trainable params: 11,090,241\n",
      "Non-trainable params: 0\n",
      "_________________________________________________________________\n"
     ]
    }
   ],
   "source": [
    "model.summary()"
   ]
  },
  {
   "cell_type": "code",
   "execution_count": 36,
   "id": "feea5da7",
   "metadata": {},
   "outputs": [
    {
     "name": "stdout",
     "output_type": "stream",
     "text": [
      "1/1 [==============================] - 0s 160ms/step\n",
      "7\n",
      "himbul\n"
     ]
    }
   ],
   "source": [
    "img1 = image.load_img(\"C:/Users/AVI BHANDARI/Downloads/archive (7)/test_data/test_data/wcrsrt/100_4468.JPG\",target_size=(224, 224))\n",
    "img1 = image.img_to_array(img1)\n",
    "img1 = np.expand_dims(img1,axis=0)\n",
    "pred = np.argmax(model.predict(img1))\n",
    "print(pred)\n",
    "output = ['blasti',\n",
    " 'bonegl',\n",
    " 'brhkyt',\n",
    " 'cbrtsh',\n",
    " 'cmnmyn',\n",
    " 'gretit',\n",
    " 'hilpig',\n",
    " 'himbul',\n",
    " 'himgri',\n",
    " 'hsparo',\n",
    " 'indvul',\n",
    " 'jglowl',\n",
    " 'lbicrw',\n",
    " 'mgprob',\n",
    " 'rebimg',\n",
    " 'wcrsrt']\n",
    "print(output[pred])"
   ]
  },
  {
   "cell_type": "code",
   "execution_count": 37,
   "id": "60fd8833",
   "metadata": {},
   "outputs": [
    {
     "name": "stdout",
     "output_type": "stream",
     "text": [
      "1/1 [==============================] - 0s 32ms/step\n",
      "2\n",
      "brhkyt\n"
     ]
    }
   ],
   "source": [
    "img2 = image.load_img(\"C:/Users/AVI BHANDARI/Downloads/archive (7)/test_data/test_data/jglowl/_D32_13515.jpg\",target_size=(224, 224))\n",
    "img2 = image.img_to_array(img2)\n",
    "img2 = np.expand_dims(img2,axis=0)\n",
    "pred = np.argmax(model.predict(img2))\n",
    "print(pred)\n",
    "output = ['blasti',\n",
    " 'bonegl',\n",
    " 'brhkyt',\n",
    " 'cbrtsh',\n",
    " 'cmnmyn',\n",
    " 'gretit',\n",
    " 'hilpig',\n",
    " 'himbul',\n",
    " 'himgri',\n",
    " 'hsparo',\n",
    " 'indvul',\n",
    " 'jglowl',\n",
    " 'lbicrw',\n",
    " 'mgprob',\n",
    " 'rebimg',\n",
    " 'wcrsrt']\n",
    "print(output[pred])"
   ]
  },
  {
   "cell_type": "code",
   "execution_count": null,
   "id": "d110f578",
   "metadata": {},
   "outputs": [],
   "source": []
  }
 ],
 "metadata": {
  "kernelspec": {
   "display_name": "Python 3 (ipykernel)",
   "language": "python",
   "name": "python3"
  },
  "language_info": {
   "codemirror_mode": {
    "name": "ipython",
    "version": 3
   },
   "file_extension": ".py",
   "mimetype": "text/x-python",
   "name": "python",
   "nbconvert_exporter": "python",
   "pygments_lexer": "ipython3",
   "version": "3.9.7"
  }
 },
 "nbformat": 4,
 "nbformat_minor": 5
}
